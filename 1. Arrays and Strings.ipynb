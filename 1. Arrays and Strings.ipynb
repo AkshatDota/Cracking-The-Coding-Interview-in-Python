{
 "cells": [
  {
   "cell_type": "markdown",
   "metadata": {},
   "source": [
    "## 1.1 Is Unique: \n",
    "Implement an algorithm to determine if a string has all unique characters. What if you\n",
    "cannot use additional data structures?"
   ]
  },
  {
   "cell_type": "code",
   "execution_count": 1,
   "metadata": {},
   "outputs": [],
   "source": [
    "def isUniqueChars(s):\n",
    "    checker= 0;\n",
    "    for i in range(len(s)):\n",
    "        val = ord(s[i]) - ord('a')\n",
    "        \n",
    "        print(f'val = {val}, checker = {checker}, (1<<val) = {1<<val}  checker and val = {checker & (1<<val)}')\n",
    "        if ((checker & (1 << val)) > 0):\n",
    "            return False\n",
    "        checker |=  (1 << val)\n",
    "    return True"
   ]
  },
  {
   "cell_type": "code",
   "execution_count": 2,
   "metadata": {},
   "outputs": [
    {
     "name": "stdout",
     "output_type": "stream",
     "text": [
      "val = 0, checker = 0, (1<<val) = 1  checker and val = 0\n",
      "val = 1, checker = 1, (1<<val) = 2  checker and val = 0\n",
      "val = 2, checker = 3, (1<<val) = 4  checker and val = 0\n",
      "val = 3, checker = 7, (1<<val) = 8  checker and val = 0\n",
      "val = 25, checker = 15, (1<<val) = 33554432  checker and val = 0\n",
      "val = 23, checker = 33554447, (1<<val) = 8388608  checker and val = 0\n",
      "val = 2, checker = 41943055, (1<<val) = 4  checker and val = 4\n"
     ]
    },
    {
     "data": {
      "text/plain": [
       "False"
      ]
     },
     "execution_count": 2,
     "metadata": {},
     "output_type": "execute_result"
    }
   ],
   "source": [
    "isUniqueChars('abcdzxcv')"
   ]
  },
  {
   "cell_type": "markdown",
   "metadata": {},
   "source": [
    "## 2.2 Check Permutation:\n",
    "Given two strings, write a method to decide if one is a permutation of the\n",
    "other."
   ]
  },
  {
   "cell_type": "code",
   "execution_count": 3,
   "metadata": {},
   "outputs": [],
   "source": [
    "def check(s1, s2):\n",
    "    dic1 = {}\n",
    "    dic2 = {}\n",
    "    for i in s1:\n",
    "        dic1[i] = dic1.get(i, 0)+1\n",
    "    for i in s2:\n",
    "        if i in dic1 and dic1[i]>0:\n",
    "            dic1[i] -= 1\n",
    "        else:\n",
    "            return False\n",
    "        \n",
    "    return True"
   ]
  },
  {
   "cell_type": "code",
   "execution_count": 4,
   "metadata": {},
   "outputs": [
    {
     "data": {
      "text/plain": [
       "False"
      ]
     },
     "execution_count": 4,
     "metadata": {},
     "output_type": "execute_result"
    }
   ],
   "source": [
    "check('abczas', 'cbazasa')"
   ]
  },
  {
   "cell_type": "markdown",
   "metadata": {},
   "source": [
    "## 1.3 URLify:\n",
    "Write a method to replace all spaces in a string with '%20'. You may assume that the string\n",
    "has sufficient space at the end to hold the additional characters, and that you are given the \"true\"\n",
    "length of the string."
   ]
  },
  {
   "cell_type": "code",
   "execution_count": 6,
   "metadata": {},
   "outputs": [
    {
     "name": "stdout",
     "output_type": "stream",
     "text": [
      "\n",
      "\n"
     ]
    }
   ],
   "source": [
    "s = input().strip()\n",
    "s = s.replace(' ', '%20')\n",
    "print(s)"
   ]
  },
  {
   "cell_type": "markdown",
   "metadata": {},
   "source": [
    "## 1.4 Palindrome Permutation: \n",
    "Given a string, write a function to check if it is a permutation of a palin­\n",
    "drome. A palindrome is a word or phrase that is the same forwards and backwards. A permutation\n",
    "is a rearrangement of letters. The palindrome does not need to be limited to just dictionary words.\n",
    "\n",
    "EXAMPLE\n",
    "\n",
    "Input: Tact Coa\n",
    "\n",
    "Output: True (permutations: \"taco cat\", \"atco eta\", etc.)"
   ]
  },
  {
   "cell_type": "code",
   "execution_count": 7,
   "metadata": {},
   "outputs": [
    {
     "name": "stdout",
     "output_type": "stream",
     "text": [
      "True\n"
     ]
    }
   ],
   "source": [
    "s = 'Tact Coa'\n",
    "s = s.lower()\n",
    "dic = {}\n",
    "for i in s:\n",
    "    if(i==' '):\n",
    "        continue\n",
    "    dic[i] = dic.get(i, 0) + 1\n",
    "    #print(dic)\n",
    "#print(dic)\n",
    "c = 0\n",
    "for i in dic:\n",
    "    if dic[i]%2 == 0:\n",
    "        continue\n",
    "    else:\n",
    "        c += 1\n",
    "if(c>1):\n",
    "    print('False')\n",
    "else:\n",
    "    print('True')"
   ]
  },
  {
   "cell_type": "markdown",
   "metadata": {},
   "source": [
    "## 1.5 One Away: \n",
    "There are three types of edits that can be performed on strings: insert a character,\n",
    "remove a character, or replace a character. Given two strings, write a function to check if they are\n",
    "one edit (or zero edits) away.\n",
    "\n",
    "EXAMPLE\n",
    "\n",
    "pale, ple -> true\n",
    "\n",
    "pales, pale -> true\n",
    "\n",
    "pale, bale -> true\n",
    "\n",
    "pale, bake -> false"
   ]
  },
  {
   "cell_type": "code",
   "execution_count": 8,
   "metadata": {},
   "outputs": [],
   "source": [
    "def check(s1, s2):\n",
    "    dic = {}\n",
    "    for i in s1:\n",
    "        dic[i] = dic.get(i, 0) + 1\n",
    "    c = 0\n",
    "    for i in s2:\n",
    "        if i in dic and dic[i] > 0:\n",
    "            dic[i] -= 1\n",
    "        else:\n",
    "            c += 1\n",
    "    if( c>1 ):\n",
    "        return False\n",
    "    return True"
   ]
  },
  {
   "cell_type": "code",
   "execution_count": 9,
   "metadata": {},
   "outputs": [
    {
     "name": "stdout",
     "output_type": "stream",
     "text": [
      "True\n",
      "True\n",
      "True\n",
      "False\n"
     ]
    }
   ],
   "source": [
    "print(check('pale', 'ple'))\n",
    "print(check('pales', 'pale'))\n",
    "print(check('pale', 'bale'))\n",
    "print(check('pale', 'bake'))"
   ]
  },
  {
   "cell_type": "markdown",
   "metadata": {},
   "source": [
    "## 1.6 String Compression: \n",
    "Implement a method to perform basic string compression using the counts\n",
    "of repeated characters. For example, the string aabcccccaaa would become a2blc5a3. If the\n",
    "\"compressed\" string would not become smaller than the original string, your method should return\n",
    "the original string. You can assume the string has only uppercase and lowercase letters (a - z)."
   ]
  },
  {
   "cell_type": "code",
   "execution_count": 10,
   "metadata": {},
   "outputs": [
    {
     "name": "stdout",
     "output_type": "stream",
     "text": [
      "a2b1c5a3\n"
     ]
    }
   ],
   "source": [
    "s = 'aabcccccaaa'\n",
    "c = 1\n",
    "s1 = ''\n",
    "for i in range(len(s)-1):\n",
    "    if( s[i] == s[i+1]):\n",
    "        c += 1\n",
    "    else:\n",
    "        s1 = s1 + s[i] + str(c)\n",
    "        c = 1\n",
    "s1 = s1 + s[-1] + str(c)\n",
    "print(s1)\n",
    "            \n",
    "    "
   ]
  },
  {
   "cell_type": "markdown",
   "metadata": {},
   "source": [
    "## 1.7 Rotate Matrix: \n",
    "Given an image represented by an NxN matrix, where each pixel in the image is 4\n",
    "bytes, write a method to rotate the image by 90 degrees. Can you do this in place?"
   ]
  },
  {
   "cell_type": "code",
   "execution_count": 11,
   "metadata": {},
   "outputs": [
    {
     "name": "stdout",
     "output_type": "stream",
     "text": [
      "[1, 2, 3]\n",
      "[4, 5, 6]\n",
      "[7, 8, 9]\n",
      "\n",
      "[7, 4, 1]\n",
      "[8, 5, 2]\n",
      "[9, 6, 3]\n"
     ]
    }
   ],
   "source": [
    "l = [[1, 2, 3], [4, 5, 6], [7, 8, 9]]\n",
    "for i in l:\n",
    "    print(i)\n",
    "print()\n",
    "n = len(l)\n",
    "for layer in range(n//2):\n",
    "    first = layer\n",
    "    last = n - 1 - layer\n",
    "    for i in range(first, last):\n",
    "        offset = i - first\n",
    "    \n",
    "        top = l[first][i]     #Save top\n",
    "\n",
    "        l[first][i] =  l[last - offset][first]          # left -> Top\n",
    "\n",
    "        l[last-offset][first] = l[last][last - offset]  # bottom -> left\n",
    "\n",
    "        l[last][last - offset] = l[i][last]             # Right -> Bottom\n",
    "\n",
    "        l[i][last] = top                                # Top -> Right\n",
    "\n",
    "for i in l:\n",
    "    print(i)"
   ]
  },
  {
   "cell_type": "markdown",
   "metadata": {},
   "source": [
    "## 1.8 Zero Matrix: \n",
    "Write an algorithm such that if an element in an MxN matrix is 0, its entire row and\n",
    "column are set to 0."
   ]
  },
  {
   "cell_type": "code",
   "execution_count": 13,
   "metadata": {},
   "outputs": [
    {
     "name": "stdout",
     "output_type": "stream",
     "text": [
      "[0, 1, 2, 0]\n",
      "[3, 4, 5, 2]\n",
      "[1, 3, 1, 5]\n",
      "\n",
      "[0, 0, 0, 0]\n",
      "[0, 4, 5, 0]\n",
      "[0, 3, 1, 0]\n",
      "\n"
     ]
    }
   ],
   "source": [
    "matrix = [[0,1,2,0],[3,4,5,2],[1,3,1,5]]\n",
    "s1 = set()\n",
    "for i in matrix:\n",
    "    print(i)\n",
    "print()\n",
    "for i in range(len(matrix)):\n",
    "    for j in range(len(matrix[0])):\n",
    "        if(matrix[i][j] == 0):\n",
    "            s1.add((i, j))\n",
    "            \n",
    "for i in range(len(matrix)):\n",
    "    for j in range(len(matrix[0])):\n",
    "        if(matrix[i][j] == 0 and (i,j) in s1):\n",
    "            for k in range(len(matrix)):\n",
    "                matrix[k][j] = 0\n",
    "            for k in range(len(matrix[0])):\n",
    "                matrix[i][k] = 0\n",
    "for i in matrix:\n",
    "    print(i)\n",
    "print()"
   ]
  },
  {
   "cell_type": "markdown",
   "metadata": {},
   "source": [
    "## 1.9 String Rotation:\n",
    "Assumeyou have a method isSubstringwhich checks ifoneword isa substring\n",
    "of another. Given two strings, sl and s2, write code to check if s2 is a rotation of sl using only one\n",
    "call to isSubstring (e.g., \"waterbottle\" is a rotation of\"erbottlewat\")."
   ]
  },
  {
   "cell_type": "code",
   "execution_count": 14,
   "metadata": {},
   "outputs": [
    {
     "name": "stdout",
     "output_type": "stream",
     "text": [
      "True\n"
     ]
    }
   ],
   "source": [
    "s1 = 'waterbottle'\n",
    "s2 = 'erbottlewat'\n",
    "\n",
    "if s2 in s1*2:\n",
    "    print('True')\n",
    "else:\n",
    "    print('False')"
   ]
  }
 ],
 "metadata": {
  "kernelspec": {
   "display_name": "Python 3",
   "language": "python",
   "name": "python3"
  },
  "language_info": {
   "codemirror_mode": {
    "name": "ipython",
    "version": 3
   },
   "file_extension": ".py",
   "mimetype": "text/x-python",
   "name": "python",
   "nbconvert_exporter": "python",
   "pygments_lexer": "ipython3",
   "version": "3.7.3"
  }
 },
 "nbformat": 4,
 "nbformat_minor": 2
}
